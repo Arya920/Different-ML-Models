{
 "cells": [
  {
   "cell_type": "code",
   "execution_count": 59,
   "metadata": {},
   "outputs": [],
   "source": [
    "import numpy as np"
   ]
  },
  {
   "attachments": {},
   "cell_type": "markdown",
   "metadata": {},
   "source": [
    "## 1D ARRAY"
   ]
  },
  {
   "cell_type": "code",
   "execution_count": 60,
   "metadata": {},
   "outputs": [
    {
     "name": "stdout",
     "output_type": "stream",
     "text": [
      "<class 'numpy.ndarray'>\n",
      "<---------->\n",
      "[1 2 3 4 5]\n"
     ]
    }
   ],
   "source": [
    "data=[1,2,3,4,5]\n",
    "data_array=np.array(data)\n",
    "print(type(data_array))\n",
    "print(\"<---------->\")\n",
    "print(data_array)"
   ]
  },
  {
   "attachments": {},
   "cell_type": "markdown",
   "metadata": {},
   "source": [
    "## 2D ARRAY"
   ]
  },
  {
   "cell_type": "code",
   "execution_count": 61,
   "metadata": {},
   "outputs": [
    {
     "name": "stdout",
     "output_type": "stream",
     "text": [
      "<class 'numpy.ndarray'>\n"
     ]
    }
   ],
   "source": [
    "data2=[[1,2],\n",
    "[3,4],\n",
    "[5,6]]\n",
    "data_array2=np.array(data2)\n",
    "print(type(data_array2))\n"
   ]
  },
  {
   "attachments": {},
   "cell_type": "markdown",
   "metadata": {},
   "source": [
    "## Array Indexing"
   ]
  },
  {
   "cell_type": "code",
   "execution_count": 62,
   "metadata": {},
   "outputs": [
    {
     "name": "stdout",
     "output_type": "stream",
     "text": [
      "[1 2 3 4 5]\n",
      "<---------->\n",
      "1\n",
      "<---------->\n",
      "4\n"
     ]
    }
   ],
   "source": [
    "print(data_array)\n",
    "print(\"<---------->\")\n",
    "print(data_array[0])\n",
    "print(\"<---------->\")\n",
    "print(data_array[3])"
   ]
  },
  {
   "cell_type": "code",
   "execution_count": 63,
   "metadata": {},
   "outputs": [
    {
     "name": "stdout",
     "output_type": "stream",
     "text": [
      "[[1 2]\n",
      " [3 4]\n",
      " [5 6]]\n",
      "<---------->\n",
      "1\n",
      "<---------->\n",
      "4\n",
      "<---------->\n",
      "3\n",
      "<---------->\n",
      "2\n"
     ]
    }
   ],
   "source": [
    "print(data_array2)\n",
    "print(\"<---------->\")\n",
    "print(data_array2[0,0])\n",
    "print(\"<---------->\")\n",
    "print(data_array2[1,1])\n",
    "print(\"<---------->\")\n",
    "print(data_array2[1,0])\n",
    "print(\"<---------->\")\n",
    "print(data_array2[0,1])"
   ]
  },
  {
   "attachments": {},
   "cell_type": "markdown",
   "metadata": {},
   "source": [
    "## Array Slicing"
   ]
  },
  {
   "cell_type": "code",
   "execution_count": 64,
   "metadata": {},
   "outputs": [
    {
     "name": "stdout",
     "output_type": "stream",
     "text": [
      "[[1]\n",
      " [3]\n",
      " [5]]\n",
      "<---------->\n",
      "[[2]\n",
      " [4]\n",
      " [6]]\n",
      "<---------->\n",
      "[[1 2]]\n",
      "<---------->\n",
      "[[1 2]\n",
      " [3 4]]\n",
      "<---------->\n",
      "[[5 6]]\n"
     ]
    }
   ],
   "source": [
    "print(data_array2[:,:1])\n",
    "print(\"<---------->\")\n",
    "print(data_array2[:,-1:])\n",
    "print(\"<---------->\")\n",
    "print(data_array2[:1,:])\n",
    "print(\"<---------->\")\n",
    "print(data_array2[:2,:])\n",
    "print(\"<---------->\")\n",
    "print(data_array2[2:,:])"
   ]
  },
  {
   "attachments": {},
   "cell_type": "markdown",
   "metadata": {},
   "source": [
    "## Array Reshaping"
   ]
  },
  {
   "cell_type": "code",
   "execution_count": 65,
   "metadata": {},
   "outputs": [
    {
     "name": "stdout",
     "output_type": "stream",
     "text": [
      "[1 2 3 4 5] and the shape is  (5,)\n",
      "<---------->\n",
      "[[1]\n",
      " [2]\n",
      " [3]\n",
      " [4]\n",
      " [5]] and the shape is  (5, 1)\n",
      "<---------->\n"
     ]
    }
   ],
   "source": [
    "# 1D ----> 2D\n",
    "new_array=data_array.reshape(data_array.shape[0],1)\n",
    "print(data_array,\"and the shape is \",data_array.shape)\n",
    "print(\"<---------->\")\n",
    "print(new_array,\"and the shape is \",new_array.shape)\n",
    "print(\"<---------->\")"
   ]
  },
  {
   "cell_type": "code",
   "execution_count": 66,
   "metadata": {},
   "outputs": [
    {
     "name": "stdout",
     "output_type": "stream",
     "text": [
      "[[1 2]\n",
      " [3 4]\n",
      " [5 6]] and the shape is  (3, 2)\n",
      "<---------->\n",
      "[[[1]\n",
      "  [2]]\n",
      "\n",
      " [[3]\n",
      "  [4]]\n",
      "\n",
      " [[5]\n",
      "  [6]]] and the shape is  (3, 2, 1)\n"
     ]
    }
   ],
   "source": [
    "# 2D ------> 3D\n",
    "new_array2=data_array2.reshape(data_array2.shape[0],data_array2.shape[1],1)\n",
    "print(data_array2,\"and the shape is \",data_array2.shape)\n",
    "print(\"<---------->\")\n",
    "print(new_array2,\"and the shape is \",new_array2.shape)"
   ]
  },
  {
   "attachments": {},
   "cell_type": "markdown",
   "metadata": {},
   "source": [
    "# Random Function"
   ]
  },
  {
   "cell_type": "code",
   "execution_count": 86,
   "metadata": {},
   "outputs": [
    {
     "name": "stdout",
     "output_type": "stream",
     "text": [
      "[[0.92424953 0.65105919]\n",
      " [0.12031471 0.01388421]\n",
      " [0.33886668 0.085324  ]\n",
      " [0.56247457 0.19704273]\n",
      " [0.55503197 0.75023352]]\n",
      "<---------->\n",
      "[[0.21839891 0.9511267  0.58939008 0.73572634]\n",
      " [0.98483409 0.40575368 0.47182794 0.5579839 ]\n",
      " [0.33102127 0.13528495 0.57798673 0.80669553]\n",
      " [0.87559886 0.7808209  0.12983377 0.97113816]]\n"
     ]
    }
   ],
   "source": [
    "x=np.random.rand(5,2)\n",
    "y=np.random.rand(4,4)\n",
    "print(x)\n",
    "print(\"<---------->\")\n",
    "print(y)\n"
   ]
  },
  {
   "cell_type": "code",
   "execution_count": 114,
   "metadata": {},
   "outputs": [
    {
     "data": {
      "text/plain": [
       "3"
      ]
     },
     "execution_count": 114,
     "metadata": {},
     "output_type": "execute_result"
    }
   ],
   "source": [
    "# for printing random value\n",
    "a=np.random.randint(5) \n",
    "a"
   ]
  },
  {
   "cell_type": "code",
   "execution_count": 140,
   "metadata": {},
   "outputs": [
    {
     "data": {
      "text/plain": [
       "array([[4, 3],\n",
       "       [3, 1],\n",
       "       [4, 0]])"
      ]
     },
     "execution_count": 140,
     "metadata": {},
     "output_type": "execute_result"
    }
   ],
   "source": [
    "# it will give a 3 * 2 matrix where all values are integers and less than 5\n",
    "b=np.random.randint(5, size=(3,2)) \n",
    "b"
   ]
  },
  {
   "cell_type": "code",
   "execution_count": 154,
   "metadata": {},
   "outputs": [
    {
     "data": {
      "text/plain": [
       "array([0.70213784, 0.87623065, 0.56195869, 0.68284808, 0.11044867])"
      ]
     },
     "execution_count": 154,
     "metadata": {},
     "output_type": "execute_result"
    }
   ],
   "source": [
    "c=np.random.random((5,))\n",
    "c"
   ]
  },
  {
   "attachments": {},
   "cell_type": "markdown",
   "metadata": {},
   "source": [
    "## Dirichlet distribution"
   ]
  },
  {
   "cell_type": "code",
   "execution_count": 187,
   "metadata": {},
   "outputs": [
    {
     "data": {
      "image/png": "[encoded data removed]",
      "text/plain": [
       "<Figure size 640x480 with 1 Axes>"
      ]
     },
     "metadata": {},
     "output_type": "display_data"
    }
   ],
   "source": [
    "import matplotlib.pyplot as plt  \n",
    "s1 = np.random.dirichlet((10, 5, 3), 20).transpose()  \n",
    "plt.barh(range(20), s1[0])  \n",
    "plt.barh(range(20), s1[1], left=s1[0], color='g')  \n",
    "plt.barh(range(20), s1[2], left=s1[0]+s1[1], color='r')  \n",
    "plt.title(\"random length \")  \n",
    "plt.show() "
   ]
  },
  {
   "attachments": {},
   "cell_type": "markdown",
   "metadata": {},
   "source": [
    "# Data Cleaing"
   ]
  },
  {
   "cell_type": "code",
   "execution_count": 185,
   "metadata": {},
   "outputs": [
    {
     "data": {
      "image/png": "[encoded data removed]",
      "text/plain": [
       "<Figure size 640x480 with 1 Axes>"
      ]
     },
     "metadata": {},
     "output_type": "display_data"
    }
   ],
   "source": [
    "# importing packages\n",
    "import seaborn as sns\n",
    "import matplotlib.pyplot as plt\n",
    " \n",
    "# loading dataset\n",
    "data = sns.load_dataset(\"iris\")\n",
    " \n",
    "# draw lineplot\n",
    "sns.lineplot(x=\"sepal_length\", y=\"sepal_width\", data=data)\n",
    "plt.title('Title using Matplotlib Function')\n",
    "plt.show()"
   ]
  },
  {
   "cell_type": "code",
   "execution_count": 181,
   "metadata": {},
   "outputs": [
    {
     "data": {
      "text/html": [
       "<div>\n",
       "<style scoped>\n",
       "    .dataframe tbody tr th:only-of-type {\n",
       "        vertical-align: middle;\n",
       "    }\n",
       "\n",
       "    .dataframe tbody tr th {\n",
       "        vertical-align: top;\n",
       "    }\n",
       "\n",
       "    .dataframe thead th {\n",
       "        text-align: right;\n",
       "    }\n",
       "</style>\n",
       "<table border=\"1\" class=\"dataframe\">\n",
       "  <thead>\n",
       "    <tr style=\"text-align: right;\">\n",
       "      <th></th>\n",
       "      <th>sepal_length</th>\n",
       "      <th>sepal_width</th>\n",
       "      <th>petal_length</th>\n",
       "      <th>petal_width</th>\n",
       "      <th>species</th>\n",
       "    </tr>\n",
       "  </thead>\n",
       "  <tbody>\n",
       "    <tr>\n",
       "      <th>0</th>\n",
       "      <td>5.1</td>\n",
       "      <td>3.5</td>\n",
       "      <td>1.4</td>\n",
       "      <td>0.2</td>\n",
       "      <td>setosa</td>\n",
       "    </tr>\n",
       "    <tr>\n",
       "      <th>1</th>\n",
       "      <td>4.9</td>\n",
       "      <td>3.0</td>\n",
       "      <td>1.4</td>\n",
       "      <td>0.2</td>\n",
       "      <td>setosa</td>\n",
       "    </tr>\n",
       "    <tr>\n",
       "      <th>2</th>\n",
       "      <td>4.7</td>\n",
       "      <td>3.2</td>\n",
       "      <td>1.3</td>\n",
       "      <td>0.2</td>\n",
       "      <td>setosa</td>\n",
       "    </tr>\n",
       "    <tr>\n",
       "      <th>3</th>\n",
       "      <td>4.6</td>\n",
       "      <td>3.1</td>\n",
       "      <td>1.5</td>\n",
       "      <td>0.2</td>\n",
       "      <td>setosa</td>\n",
       "    </tr>\n",
       "    <tr>\n",
       "      <th>4</th>\n",
       "      <td>5.0</td>\n",
       "      <td>3.6</td>\n",
       "      <td>1.4</td>\n",
       "      <td>0.2</td>\n",
       "      <td>setosa</td>\n",
       "    </tr>\n",
       "  </tbody>\n",
       "</table>\n",
       "</div>"
      ],
      "text/plain": [
       "   sepal_length  sepal_width  petal_length  petal_width species\n",
       "0           5.1          3.5           1.4          0.2  setosa\n",
       "1           4.9          3.0           1.4          0.2  setosa\n",
       "2           4.7          3.2           1.3          0.2  setosa\n",
       "3           4.6          3.1           1.5          0.2  setosa\n",
       "4           5.0          3.6           1.4          0.2  setosa"
      ]
     },
     "execution_count": 181,
     "metadata": {},
     "output_type": "execute_result"
    }
   ],
   "source": [
    "data.head()"
   ]
  },
  {
   "cell_type": "code",
   "execution_count": 184,
   "metadata": {},
   "outputs": [
    {
     "data": {
      "text/plain": [
       "sepal_length    0\n",
       "sepal_width     0\n",
       "petal_length    0\n",
       "petal_width     0\n",
       "species         0\n",
       "dtype: int64"
      ]
     },
     "execution_count": 184,
     "metadata": {},
     "output_type": "execute_result"
    }
   ],
   "source": [
    "data.isnull().sum()"
   ]
  },
  {
   "attachments": {},
   "cell_type": "markdown",
   "metadata": {},
   "source": [
    "all the other eda and codes are in the iris eda pdf. see that for ref."
   ]
  }
 ],
 "metadata": {
  "kernelspec": {
   "display_name": "Python 3",
   "language": "python",
   "name": "python3"
  },
  "language_info": {
   "codemirror_mode": {
    "name": "ipython",
    "version": 3
   },
   "file_extension": ".py",
   "mimetype": "text/x-python",
   "name": "python",
   "nbconvert_exporter": "python",
   "pygments_lexer": "ipython3",
   "version": "3.10.9"
  },
  "orig_nbformat": 4,
  "vscode": {
   "interpreter": {
    "hash": "05e9873f914e61cda02c6b18bf9772868b8e594a37aa5e8973f23340faa536b0"
   }
  }
 },
 "nbformat": 4,
 "nbformat_minor": 2
}
